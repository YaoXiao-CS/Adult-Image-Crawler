{
 "cells": [
  {
   "cell_type": "code",
   "execution_count": null,
   "id": "ffe3a2cc",
   "metadata": {},
   "outputs": [],
   "source": [
    "# 这里为了便于网络传输，便使用了 base64 编码"
   ]
  },
  {
   "cell_type": "code",
   "execution_count": 1,
   "id": "989b7eec",
   "metadata": {},
   "outputs": [],
   "source": [
    "import os\n",
    "import base64\n",
    "\n",
    "# 设置图像文件夹路径\n",
    "image_folder = '../downloaded_images'\n",
    "output_txt = '../img_to_Base64/images_base64.txt'\n",
    "\n",
    "with open(output_txt, 'w', encoding='utf-8') as f:\n",
    "    for filename in os.listdir(image_folder):\n",
    "        file_path = os.path.join(image_folder, filename)\n",
    "        if os.path.isfile(file_path):\n",
    "            with open(file_path, 'rb') as img_file:\n",
    "                encoded_string = base64.b64encode(img_file.read()).decode('utf-8')\n",
    "                f.write(f\"{filename}\\t{encoded_string}\\n\")"
   ]
  },
  {
   "cell_type": "code",
   "execution_count": null,
   "id": "76b0db24",
   "metadata": {},
   "outputs": [],
   "source": []
  },
  {
   "cell_type": "code",
   "execution_count": null,
   "id": "9943a1ea",
   "metadata": {},
   "outputs": [],
   "source": [
    "# 反解码示例."
   ]
  },
  {
   "cell_type": "code",
   "execution_count": 2,
   "id": "00913aa4",
   "metadata": {},
   "outputs": [],
   "source": [
    "# 单一图像解码并显示\n",
    "from PIL import Image\n",
    "import io\n",
    "import base64\n",
    "\n",
    "# 读取txt文件的第一行\n",
    "with open('../img_to_Base64/images_base64.txt', 'r', encoding='utf-8') as f:\n",
    "    first_line = f.readline().strip()\n",
    "\n",
    "filename, b64_data = first_line.split('\\t', 1)\n",
    "img_bytes = base64.b64decode(b64_data)\n",
    "img = Image.open(io.BytesIO(img_bytes))\n",
    "img.show()"
   ]
  },
  {
   "cell_type": "code",
   "execution_count": 3,
   "id": "ada22794",
   "metadata": {},
   "outputs": [
    {
     "name": "stdout",
     "output_type": "stream",
     "text": [
      "Saved image: 10_0.jpg\n",
      "Saved image: 10_1.jpg\n",
      "Saved image: 10_10.jpg\n"
     ]
    }
   ],
   "source": [
    "# 批量解码并保存图像到本地文件夹示例.\n",
    "from PIL import Image\n",
    "import io\n",
    "import base64\n",
    "import os\n",
    "# 创建一个文件夹用于存储图像.\n",
    "output_folder = '../Base64_to_img'\n",
    "os.makedirs(output_folder, exist_ok=True)\n",
    "# 读取txt文件的前三行.\n",
    "with open('../img_to_Base64/images_base64.txt', 'r', encoding='utf-8') as f:\n",
    "    for i in range(3):  # 只读取前三行.\n",
    "        line = f.readline().strip()\n",
    "        if not line:  # 如果行为空，跳过.\n",
    "            continue\n",
    "        filename, b64_data = line.split('\\t', 1)\n",
    "        \n",
    "        # 解码Base64数据.\n",
    "        img_bytes = base64.b64decode(b64_data)\n",
    "        \n",
    "        # 打开图像并保存到本地文件夹.\n",
    "        img = Image.open(io.BytesIO(img_bytes))\n",
    "        img.save(os.path.join(output_folder, filename))  # 保存图像.\n",
    "        print(f'Saved image: {filename}')"
   ]
  }
 ],
 "metadata": {
  "kernelspec": {
   "display_name": "kf_bf",
   "language": "python",
   "name": "python3"
  },
  "language_info": {
   "codemirror_mode": {
    "name": "ipython",
    "version": 3
   },
   "file_extension": ".py",
   "mimetype": "text/x-python",
   "name": "python",
   "nbconvert_exporter": "python",
   "pygments_lexer": "ipython3",
   "version": "3.7.16"
  }
 },
 "nbformat": 4,
 "nbformat_minor": 5
}
